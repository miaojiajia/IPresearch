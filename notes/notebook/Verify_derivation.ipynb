{
 "metadata": {
  "name": "",
  "signature": "sha256:221b19399b9a5b145311b410f28f6c39c7443e9c5ae88853f4e1fc63d2dbdab4"
 },
 "nbformat": 3,
 "nbformat_minor": 0,
 "worksheets": [
  {
   "cells": [
    {
     "cell_type": "code",
     "collapsed": false,
     "input": [
      "def cole_debye(siginf, eta, tau, omega):\n",
      "    return siginf*(1-eta/(1.+(1.-eta)*1j*omega*tau))"
     ],
     "language": "python",
     "metadata": {},
     "outputs": [],
     "prompt_number": 117
    },
    {
     "cell_type": "code",
     "collapsed": false,
     "input": [
      "from simpegem1d import DigFilter\n",
      "import numpy as np\n",
      "%pylab inline"
     ],
     "language": "python",
     "metadata": {},
     "outputs": [
      {
       "output_type": "stream",
       "stream": "stdout",
       "text": [
        "Populating the interactive namespace from numpy and matplotlib\n"
       ]
      }
     ],
     "prompt_number": 118
    },
    {
     "cell_type": "code",
     "collapsed": false,
     "input": [
      "def RfIPFunOff(sig1, sig2, eta, tau, time):\n",
      "    r1 = np.zeros_like(time)\n",
      "    r2 = np.zeros_like(time)\n",
      "    R1bar = (sig2*(1-eta)-sig1) / (sig2*(1-eta)+2*sig1)\n",
      "    R2 = (3*sig1) / (sig2+2*sig1)    \n",
      "    R1barsig = (sig2*eta) / (sig2*(1-eta)+2*sig1)\n",
      "    R2bar = (3*sig1) / (sig2*(1-eta)+2*sig1)        \n",
      "    b = 1./ ((1-eta)*tau)\n",
      "    B = (sig2*(1-eta)+2*sig1) / (sig2+2*sig1) * b\n",
      "    r1[time<=0.] = R1bar\n",
      "    r1[time>0.] = -R1barsig*R2*np.exp(-B*time[time >0.])\n",
      "    r2[time<=0.] = R2bar\n",
      "    r2[time>0.] = -R1barsig*R2*np.exp(-B*time[time >0.])    \n",
      "    return r1, r2"
     ],
     "language": "python",
     "metadata": {},
     "outputs": [],
     "prompt_number": 119
    },
    {
     "cell_type": "code",
     "collapsed": false,
     "input": [
      "sigout, sigin1, sigin2 = 1e-3, 1e-1, 1e-5\n",
      "eta, tau = 0.5, 0.1\n",
      "time = np.logspace(-3, 0., 64)\n",
      "r1_1, r2 = RfIPFunOff(sigout, sigin1, eta, tau, time)\n",
      "r1_2, r2 = RfIPFunOff(sigout, sigin2, eta, tau, time)\n",
      "r1_3, r2 = RfIPFunOff(sigout, sigout, eta, tau, time)"
     ],
     "language": "python",
     "metadata": {},
     "outputs": [],
     "prompt_number": 166
    },
    {
     "cell_type": "code",
     "collapsed": false,
     "input": [
      "wt, tbase, omega_int = DigFilter.setFrequency(time)\n",
      "sigcole1 = cole_debye(sigin1, eta, tau, omega_int)\n",
      "sigcole2 = cole_debye(sigin2, eta, tau, omega_int)\n",
      "sigcole3 = cole_debye(sigout, eta, tau, omega_int)\n",
      "R1omega1 = (sigcole1-sigout)/(sigcole1+2*sigout)\n",
      "R2omega1 = (sigcole2-sigout)/(sigcole2+2*sigout)\n",
      "R3omega1 = (sigcole3-sigout)/(sigcole3+2*sigout)\n",
      "R1omega2 = (3*sigout)/(sigcole1+2*sigout)\n",
      "R2omega2 = (3*sigout)/(sigcole2+2*sigout)\n",
      "R3omega2 = (3*sigout)/(sigcole3+2*sigout)"
     ],
     "language": "python",
     "metadata": {},
     "outputs": [],
     "prompt_number": 220
    },
    {
     "cell_type": "code",
     "collapsed": false,
     "input": [
      "resp_out1, dum  = DigFilter.transFilt(R1omega1, wt, tbase, omega_int, time)\n",
      "resp_out2, dum  = DigFilter.transFilt(R2omega1, wt, tbase, omega_int, time)\n",
      "resp_out3, dum  = DigFilter.transFilt(R3omega1, wt, tbase, omega_int, time)\n",
      "\n",
      "respj_out1, dum  = DigFilter.transFilt(R1omega2*sigcole1, wt, tbase, omega_int, time)\n",
      "respj_out2, dum  = DigFilter.transFilt(R2omega2*sigcole2, wt, tbase, omega_int, time)\n",
      "respj_out3, dum  = DigFilter.transFilt(R3omega2*sigcole3, wt, tbase, omega_int, time)"
     ],
     "language": "python",
     "metadata": {},
     "outputs": [],
     "prompt_number": 215
    },
    {
     "cell_type": "code",
     "collapsed": false,
     "input": [
      "plt.loglog(time, -resp_out1, 'k', lw=2)\n",
      "plt.loglog(time, -r1_1, 'r.', ms=3)\n",
      "plt.loglog(time, -resp_out2, 'b', lw=2)\n",
      "plt.loglog(time, -r1_2, 'r.', ms=3)\n",
      "plt.loglog(time, -resp_out3, 'g', lw=2)\n",
      "plt.loglog(time, -r1_3, 'r.', ms=3)"
     ],
     "language": "python",
     "metadata": {},
     "outputs": [
      {
       "metadata": {},
       "output_type": "pyout",
       "prompt_number": 216,
       "text": [
        "[<matplotlib.lines.Line2D at 0x12482eed0>]"
       ]
      },
      {
       "metadata": {},
       "output_type": "display_data",
       "png": "[encoded data removed]",
       "text": [
        "<matplotlib.figure.Figure at 0x1285c3390>"
       ]
      }
     ],
     "prompt_number": 216
    },
    {
     "cell_type": "code",
     "collapsed": false,
     "input": [
      "def JIP123OFF(sig1, sig2, eta, tau, time):\n",
      "    j1 = np.zeros_like(time)\n",
      "    j2 = np.zeros_like(time)\n",
      "    j3 = np.zeros_like(time)    \n",
      "    R2 = (3.*sig1) / (sig2+2*sig1)    \n",
      "    R2bar = (3*sig1) / (sig2*(1-eta)+2*sig1)            \n",
      "    R1barsig = (sig2*eta) / (sig2*(1.-eta)+2.*sig1)\n",
      "    A = R2*R1barsig\n",
      "    b = 1./ ((1-eta)*tau)\n",
      "    a = eta*b\n",
      "    B = (sig2*(1.-eta)+2.*sig1) / (sig2+2.*sig1) * b\n",
      "    print sig2, eta, b\n",
      "    j1 =  sig2*A*np.exp(-B*time)\n",
      "    j2 = -sig2*R2bar*eta*exp(-b*time)\n",
      "    j3 = -sig2*A*a/(b-B)*(np.exp(-B*time)-np.exp(-b*time))\n",
      "    \n",
      "    return j1, j2, j3"
     ],
     "language": "python",
     "metadata": {},
     "outputs": [],
     "prompt_number": 224
    },
    {
     "cell_type": "code",
     "collapsed": false,
     "input": [
      "j1, j2, j3 = JIP123OFF(sigout, sigin1, eta, tau, time)\n",
      "j = j1 + j2 + j3"
     ],
     "language": "python",
     "metadata": {},
     "outputs": [
      {
       "output_type": "stream",
       "stream": "stdout",
       "text": [
        "0.1 0.5 20.0\n"
       ]
      }
     ],
     "prompt_number": 225
    },
    {
     "cell_type": "code",
     "collapsed": false,
     "input": [
      "plt.loglog(time, -(respj_out1), 'b--')\n",
      "plt.loglog(time, -j, 'r.')\n"
     ],
     "language": "python",
     "metadata": {},
     "outputs": [
      {
       "metadata": {},
       "output_type": "pyout",
       "prompt_number": 228,
       "text": [
        "[<matplotlib.lines.Line2D at 0x12a4d4650>]"
       ]
      },
      {
       "metadata": {},
       "output_type": "display_data",
       "png": "[encoded data removed]",
       "text": [
        "<matplotlib.figure.Figure at 0x12a204e10>"
       ]
      }
     ],
     "prompt_number": 228
    },
    {
     "cell_type": "code",
     "collapsed": false,
     "input": [],
     "language": "python",
     "metadata": {},
     "outputs": []
    }
   ],
   "metadata": {}
  }
 ]
}